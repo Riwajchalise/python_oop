{
 "cells": [
  {
   "cell_type": "markdown",
   "metadata": {},
   "source": [
    "# Regular Method\n",
    "- Regular method in a class automatically takes instance as its first argument.\n",
    "- Please refer the previous notebook to see __class_instance__ to know about regular method "
   ]
  },
  {
   "cell_type": "markdown",
   "metadata": {},
   "source": [
    "# Class method\n",
    "- To get class as the first argument we use class method @classmethod as the decorator. \n",
    "- By convention we call the class variable __cls__."
   ]
  },
  {
   "cell_type": "code",
   "execution_count": 13,
   "metadata": {},
   "outputs": [
    {
     "name": "stdout",
     "output_type": "stream",
     "text": [
      "1.05\n"
     ]
    }
   ],
   "source": [
    "class  Employee:\n",
    "    \n",
    "    #raise_amount = 1.04 #classvariable\n",
    "    \n",
    "    def __init__(self,fname,lname,pay):\n",
    "        self.fname = fname\n",
    "        self.lname = lname\n",
    "        self.pay = pay\n",
    "        self.email = fname+\".\"+lname+\"@xyz.com\"\n",
    "    \n",
    "    @classmethod \n",
    "    def set_raise_amt(cls,amount): #this is a class method\n",
    "        cls.raise_amount = amount  #setting raise amount 5% for the employee class\n",
    "        \n",
    "Employee.set_raise_amt(1.05)\n",
    "print(Employee.raise_amount)\n",
    "        "
   ]
  },
  {
   "cell_type": "markdown",
   "metadata": {},
   "source": [
    "Lets see another example of class method which gets the information about the employee in __firtname-lastname-salary__ string format and using that string new employee should be created."
   ]
  },
  {
   "cell_type": "code",
   "execution_count": 14,
   "metadata": {},
   "outputs": [
    {
     "name": "stdout",
     "output_type": "stream",
     "text": [
      "jeena.dahal@xyz.com\n",
      "rishi.khadka@xyz.com\n"
     ]
    }
   ],
   "source": [
    "class  Employee:\n",
    "    \n",
    "    def __init__(self,fname,lname,pay):\n",
    "        self.fname = fname\n",
    "        self.lname = lname\n",
    "        self.pay = pay\n",
    "        self.email = fname+\".\"+lname+\"@xyz.com\"\n",
    "        \n",
    "    @classmethod\n",
    "    def from_string(cls, emp_str):\n",
    "        first, last, salary = emp_str.split('-')\n",
    "        return cls(first, last, salary)\n",
    "        \n",
    "emp_1_str = 'jeena-dahal-50000'\n",
    "emp_2_str = 'rishi-khadka-50000'\n",
    "\n",
    "new_emp_1 = Employee.from_string(emp_1_str)\n",
    "print(new_emp_1.email)\n",
    "new_emp_2 = Employee.from_string(emp_2_str)\n",
    "print(new_emp_2.email)"
   ]
  },
  {
   "cell_type": "markdown",
   "metadata": {},
   "source": [
    "# Static Method\n",
    "- A static method doesn't take any class or instance as its first argument so we can pass any arguments that we want.\n",
    "- We use static method in a class because the method have some logical connection with the class.\n",
    "- We use @staticmethod as our decorator to write a static method."
   ]
  },
  {
   "cell_type": "markdown",
   "metadata": {},
   "source": [
    "Lets say we want a simpe function that would return whether or not its a workday. Workday has a logical connection to our employee class but it doesn't depend on class or any instance it is universal to all the employees. "
   ]
  },
  {
   "cell_type": "code",
   "execution_count": 49,
   "metadata": {},
   "outputs": [
    {
     "name": "stdout",
     "output_type": "stream",
     "text": [
      "It's Workday.\n",
      "It's Holiday.\n"
     ]
    }
   ],
   "source": [
    "import datetime #importing date time module\n",
    "\n",
    "class  Employee:\n",
    "    @staticmethod\n",
    "    def is_workday(day):\n",
    "        if day.weekday() == 5 or day.weekday() == 6:\n",
    "            return \"It's Holiday.\"\n",
    "        return \"It's Workday.\"\n",
    "        \n",
    "my_date = datetime.date(2018, 1, 3) #Thursday\n",
    "my_date_1 = datetime.date(2018, 1, 6) #Sunday\n",
    "print(Employee.is_workday(my_date))\n",
    "print(Employee.is_workday(my_date_1))"
   ]
  },
  {
   "cell_type": "markdown",
   "metadata": {},
   "source": [
    "# End of the note! "
   ]
  }
 ],
 "metadata": {
  "kernelspec": {
   "display_name": "Python 3",
   "language": "python",
   "name": "python3"
  },
  "language_info": {
   "codemirror_mode": {
    "name": "ipython",
    "version": 3
   },
   "file_extension": ".py",
   "mimetype": "text/x-python",
   "name": "python",
   "nbconvert_exporter": "python",
   "pygments_lexer": "ipython3",
   "version": "3.6.3"
  }
 },
 "nbformat": 4,
 "nbformat_minor": 2
}
