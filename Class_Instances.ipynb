{
 "cells": [
  {
   "cell_type": "markdown",
   "metadata": {},
   "source": [
    "# Class\n",
    "Classes allows us to logically group our dataClass − A user-defined prototype for an object that defines a set of attributes that characterize any object of the class.\n",
    "\n",
    "##### A class is a blue print for creating instance or objects. "
   ]
  },
  {
   "cell_type": "code",
   "execution_count": 1,
   "metadata": {},
   "outputs": [],
   "source": [
    "class employee:\n",
    "    pass # By passing a pass statement in a class python will know to skip that class for now"
   ]
  },
  {
   "cell_type": "markdown",
   "metadata": {},
   "source": [
    "# Object or Instance\n",
    "- Each unique object we create using a class is called the instance or object of class."
   ]
  },
  {
   "cell_type": "code",
   "execution_count": 2,
   "metadata": {
    "scrolled": true
   },
   "outputs": [
    {
     "name": "stdout",
     "output_type": "stream",
     "text": [
      "<__main__.Employee object at 0x000001A0AB224A20>\n",
      "<__main__.Employee object at 0x000001A0AB2249E8>\n"
     ]
    }
   ],
   "source": [
    "#Example that shows instance of a class\n",
    "class  Employee:\n",
    "    pass\n",
    "\n",
    "emp_1 = Employee()\n",
    "emp_2 = Employee()\n",
    "\n",
    "\n",
    "\n",
    "\n",
    "\n",
    "\n",
    "print(emp_1)\n",
    "print(emp_2)"
   ]
  },
  {
   "cell_type": "markdown",
   "metadata": {},
   "source": [
    "We can see that emp_1 and emp_2 are two different objects and they are at different memory locations 0x0000020D31A52AC8 and 0x0000020D31A52A90 respectively."
   ]
  },
  {
   "cell_type": "markdown",
   "metadata": {},
   "source": [
    "# Instance Variables\n",
    "Instance variables are the variables that is unique to each instances."
   ]
  },
  {
   "cell_type": "code",
   "execution_count": 34,
   "metadata": {},
   "outputs": [
    {
     "name": "stdout",
     "output_type": "stream",
     "text": [
      "jeena.dahal@xyz.com\n",
      "rishi.khadka@xyz.com\n"
     ]
    }
   ],
   "source": [
    "class Employee:\n",
    "    pass\n",
    "    \n",
    "emp_1 = Employee()\n",
    "emp_2 = Employee()\n",
    "\n",
    "#These are instance variable for emp_1\n",
    "emp_1.fname = \"jeena\"\n",
    "emp_1.lname = \"dahal\"\n",
    "emp_1.email = emp_1.fname+\".\"+emp_1.lname+\"@xyz.com\"\n",
    "\n",
    "#these are instance variable for emp_2\n",
    "emp_2.fname = \"rishi\"\n",
    "emp_2.lname = \"khadka\"\n",
    "emp_2.email = emp_2.fname+\".\"+emp_2.lname+\"@xyz.com\"\n",
    "\n",
    "print(emp_1.email)\n",
    "print(emp_2.email)\n",
    "     "
   ]
  },
  {
   "cell_type": "markdown",
   "metadata": {},
   "source": [
    "# __init__ Method\n",
    "- __init__ is a special method that sets-up the methods and variables automatically within the __init__ method after an object is created. \n",
    "- If you are comming from other programming language it is like a constructor.\n",
    "- Lets have a look at the use of __init__ method inside a class.\n",
    "\n",
    "## lets create employee data automatically when they are registered. It can be done using __init__ method :"
   ]
  },
  {
   "cell_type": "code",
   "execution_count": 29,
   "metadata": {},
   "outputs": [
    {
     "name": "stdout",
     "output_type": "stream",
     "text": [
      "jeena.dahal@xyz.com\n",
      "rishi.khadka@xyz.com\n"
     ]
    }
   ],
   "source": [
    "class  Employee:\n",
    "    def __init__(self,fname,lname,pay):\n",
    "        self.fname = fname\n",
    "        self.lname = lname\n",
    "        self.pay = pay\n",
    "        self.email = fname+\".\"+lname+\"@xyz.com\"\n",
    "\n",
    "emp_1 = Employee(\"jeena\",\"dahal\",5000)\n",
    "emp_2 = Employee(\"rishi\",\"khadka\",2000)\n",
    "\n",
    "print(emp_1.email)\n",
    "print(emp_2.email)"
   ]
  },
  {
   "cell_type": "markdown",
   "metadata": {},
   "source": [
    "# Class variable\n",
    "While instance variables can be unique for each instance a class variable should be same for all classes.\n",
    "- Lets have a look at class  variables."
   ]
  },
  {
   "cell_type": "code",
   "execution_count": 30,
   "metadata": {},
   "outputs": [
    {
     "name": "stdout",
     "output_type": "stream",
     "text": [
      "The initial salary\n",
      "salary of jeena is 5000\n",
      "salary of rishi is 2000\n",
      "salary of jeena after raise is 5200\n",
      "salary of rishi after raise is 2080\n"
     ]
    }
   ],
   "source": [
    "class  Employee:\n",
    "    \n",
    "    raise_amount = 1.04 #classvariable\n",
    "    \n",
    "    def __init__(self,fname,lname,pay):\n",
    "        self.fname = fname\n",
    "        self.lname = lname\n",
    "        self.pay = pay\n",
    "        self.email = fname+\".\"+lname+\"@xyz.com\"\n",
    "    \n",
    "    def apply_raise(self):\n",
    "        self.pay = int(self.raise_amount * self.pay)\n",
    "\n",
    "emp_1 = Employee(\"jeena\",\"dahal\",5000)\n",
    "emp_2 = Employee(\"rishi\",\"khadka\",2000)\n",
    "\n",
    "print(\"The initial salary\")\n",
    "print(\"salary of {} is {}\".format(emp_1.fname,emp_1.pay))\n",
    "print(\"salary of {} is {}\".format(emp_2.fname,emp_2.pay))\n",
    "emp_1.apply_raise()\n",
    "emp_2.apply_raise()\n",
    "print(\"salary of {} after raise is {}\".format(emp_1.fname,emp_1.pay))\n",
    "print(\"salary of {} after raise is {}\".format(emp_2.fname,emp_2.pay))"
   ]
  },
  {
   "cell_type": "code",
   "execution_count": 31,
   "metadata": {},
   "outputs": [
    {
     "name": "stdout",
     "output_type": "stream",
     "text": [
      "1.04\n",
      "1.04\n",
      "1.04\n"
     ]
    }
   ],
   "source": [
    "#Since reise_amount is our classvariable lets see its value for each instances and the class\n",
    "print(Employee.raise_amount)\n",
    "print(emp_1.raise_amount)\n",
    "print(emp_2.raise_amount)"
   ]
  },
  {
   "cell_type": "code",
   "execution_count": 32,
   "metadata": {},
   "outputs": [
    {
     "name": "stdout",
     "output_type": "stream",
     "text": [
      "{'fname': 'jeena', 'lname': 'dahal', 'pay': 5200, 'email': 'jeena.dahal@xyz.com'}\n",
      "{'fname': 'rishi', 'lname': 'khadka', 'pay': 2080, 'email': 'rishi.khadka@xyz.com'}\n"
     ]
    }
   ],
   "source": [
    "print(emp_1.__dict__)\n",
    "print(emp_2.__dict__)"
   ]
  },
  {
   "cell_type": "markdown",
   "metadata": {},
   "source": [
    "We can see that the instances emp_1 and emp_2 doesn't contain __\"raise_amount\"__ attribute"
   ]
  },
  {
   "cell_type": "code",
   "execution_count": 33,
   "metadata": {},
   "outputs": [
    {
     "name": "stdout",
     "output_type": "stream",
     "text": [
      "{'__module__': '__main__', 'raise_amount': 1.04, '__init__': <function Employee.__init__ at 0x0000021B36E22EA0>, 'apply_raise': <function Employee.apply_raise at 0x0000021B36E22A60>, '__dict__': <attribute '__dict__' of 'Employee' objects>, '__weakref__': <attribute '__weakref__' of 'Employee' objects>, '__doc__': None}\n"
     ]
    }
   ],
   "source": [
    "print(Employee.__dict__)"
   ]
  },
  {
   "cell_type": "markdown",
   "metadata": {},
   "source": [
    "But we can see that the class __Employy__ does contain this __raise_amount__ attribute so when we try to access that __raise_ amount__ attribute from any instances it takes the value from a the class."
   ]
  },
  {
   "cell_type": "code",
   "execution_count": 26,
   "metadata": {},
   "outputs": [
    {
     "name": "stdout",
     "output_type": "stream",
     "text": [
      "1.04\n",
      "1.1\n",
      "1.04\n"
     ]
    }
   ],
   "source": [
    "emp_1.raise_amount =  1.10\n",
    "print(Employee.raise_amount)\n",
    "print(emp_1.raise_amount)\n",
    "print(emp_2.raise_amount)"
   ]
  },
  {
   "cell_type": "code",
   "execution_count": 28,
   "metadata": {},
   "outputs": [
    {
     "name": "stdout",
     "output_type": "stream",
     "text": [
      "{'fname': 'jeena', 'lname': 'dahal', 'pay': 5200, 'email': 'jeena.dahal@xyz.com', 'raise_amount': 1.1}\n"
     ]
    }
   ],
   "source": [
    "print(emp_1.__dict__)"
   ]
  },
  {
   "cell_type": "markdown",
   "metadata": {},
   "source": [
    "Now we can see __emp_1__ has attribute __'raise_amount': 1.1__ within its name space so when we try to access __raise_amount__ from instance __emp_1__ it finds the value within its own name space before looking into class's name space."
   ]
  },
  {
   "cell_type": "markdown",
   "metadata": {},
   "source": [
    "Now lets look  at another example of class variable where changing value of attribute would not make sense. Lets say we want to kee the tracck of number of employees we have: "
   ]
  },
  {
   "cell_type": "code",
   "execution_count": 41,
   "metadata": {},
   "outputs": [
    {
     "name": "stdout",
     "output_type": "stream",
     "text": [
      "total no of employee=  2\n"
     ]
    }
   ],
   "source": [
    "class  Employee:\n",
    "    \n",
    "    num_of_emps = 0\n",
    "    \n",
    "    def __init__(self,fname,lname,pay):\n",
    "        self.fname = fname\n",
    "        self.lname = lname\n",
    "        self.pay = pay\n",
    "        self.email = fname+\".\"+lname+\"@xyz.com\"\n",
    "        \n",
    "        Employee.num_of_emps += 1 #Important line\n",
    "        \n",
    "emp_1 = Employee(\"jeena\",\"dahal\",5000)\n",
    "emp_2 = Employee(\"rishi\",\"khadka\",2000)\n",
    "print(\"total no of employee= \", Employee.num_of_emps)"
   ]
  },
  {
   "cell_type": "markdown",
   "metadata": {},
   "source": [
    "Notice I have written __Employee.num_of_emps += 1__ insted of __self.num_of_emps += 1__ because total nomber of employees for different instances won't be different.This is a kind of attribute we wouldn't want to change for every object we create."
   ]
  },
  {
   "cell_type": "code",
   "execution_count": 42,
   "metadata": {},
   "outputs": [
    {
     "name": "stdout",
     "output_type": "stream",
     "text": [
      "{'fname': 'jeena', 'lname': 'dahal', 'pay': 5000, 'email': 'jeena.dahal@xyz.com'}\n",
      "{'fname': 'rishi', 'lname': 'khadka', 'pay': 2000, 'email': 'rishi.khadka@xyz.com'}\n"
     ]
    }
   ],
   "source": [
    "print(emp_1.__dict__)\n",
    "print(emp_2.__dict__)"
   ]
  },
  {
   "cell_type": "code",
   "execution_count": 43,
   "metadata": {},
   "outputs": [
    {
     "name": "stdout",
     "output_type": "stream",
     "text": [
      "{'__module__': '__main__', 'num_of_emps': 2, '__init__': <function Employee.__init__ at 0x0000021B36E2F400>, '__dict__': <attribute '__dict__' of 'Employee' objects>, '__weakref__': <attribute '__weakref__' of 'Employee' objects>, '__doc__': None}\n"
     ]
    }
   ],
   "source": [
    "print(Employee.__dict__)"
   ]
  },
  {
   "cell_type": "code",
   "execution_count": null,
   "metadata": {},
   "outputs": [],
   "source": []
  }
 ],
 "metadata": {
  "kernelspec": {
   "display_name": "Python 3",
   "language": "python",
   "name": "python3"
  },
  "language_info": {
   "codemirror_mode": {
    "name": "ipython",
    "version": 3
   },
   "file_extension": ".py",
   "mimetype": "text/x-python",
   "name": "python",
   "nbconvert_exporter": "python",
   "pygments_lexer": "ipython3",
   "version": "3.6.3"
  }
 },
 "nbformat": 4,
 "nbformat_minor": 2
}
